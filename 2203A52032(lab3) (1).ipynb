{
  "nbformat": 4,
  "nbformat_minor": 0,
  "metadata": {
    "colab": {
      "provenance": []
    },
    "kernelspec": {
      "name": "python3",
      "display_name": "Python 3"
    },
    "language_info": {
      "name": "python"
    }
  },
  "cells": [
    {
      "cell_type": "code",
      "source": [
        "import pandas as pd\n",
        "# Read Excel file\n",
        "data_excel = pd.read_excel('/kolluri.aiml.xlsx')\n",
        "# Read CSV file\n",
        "data_csv = pd.read_csv('/kolluri.aiml.csv')\n",
        "# Read TSV file (Tab-separated values)\n",
        "data_tsv = pd.read_csv('/kolluri.aiml.txt', sep='\\t')\n",
        "\n",
        "print(\"Data from Excel:\")\n",
        "print(data_excel)\n",
        "\n",
        "print(\"\\nData from CSV:\")\n",
        "print(data_csv)\n",
        "\n",
        "print(\"\\nData from TSV:\")\n",
        "print(data_tsv)\n"
      ],
      "metadata": {
        "id": "tRdJO2TZf2ds",
        "colab": {
          "base_uri": "https://localhost:8080/"
        },
        "outputId": "7926643b-bc66-47d2-9f7d-0b05715173e5"
      },
      "execution_count": 9,
      "outputs": [
        {
          "output_type": "stream",
          "name": "stdout",
          "text": [
            "Data from Excel:\n",
            "           Table 1  Unnamed: 1 Unnamed: 2\n",
            "0             name        Htno    Surname\n",
            "1  Jeshwanth kumar  2203A52043          N\n",
            "2      Siddharatha  2203A52045          N\n",
            "3         Aniritha  2203A52032          K\n",
            "4            Navya  2203A52057          T\n",
            "\n",
            "Data from CSV:\n",
            "          name        Htno Surname\n",
            "0    Jeshwanth  2203A52043       N\n",
            "1  Siddharatha  2203A52045       N\n",
            "2     Aniritha  2203A52032       K\n",
            "3        Navya  2203A52057       T\n",
            "\n",
            "Data from TSV:\n",
            "          name        Htno Surname  Unnamed: 3  Unnamed: 4  Unnamed: 5\n",
            "0    Jeshwanth  2203A52043       N         NaN         NaN         NaN\n",
            "1     Aniritha  2203A52032       K         NaN         NaN         NaN\n",
            "2  Siddharatha  2203A52045       N         NaN         NaN         NaN\n",
            "3        Navya  2203A52057       N         NaN         NaN         NaN\n"
          ]
        }
      ]
    }
  ]
}